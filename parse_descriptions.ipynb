{
  "cells": [
    {
      "cell_type": "markdown",
      "metadata": {
        "id": "QshK8s21WBrf"
      },
      "source": [
        "# Experiments in Audio Sentiment"
      ]
    },
    {
      "cell_type": "code",
      "execution_count": null,
      "metadata": {},
      "outputs": [],
      "source": [
        "import pandas as pd\n",
        "\n",
        "from os import listdir, path"
      ]
    },
    {
      "cell_type": "markdown",
      "metadata": {
        "id": "7Hf8SXUwWOho"
      },
      "source": [
        "## Parse `xls` files"
      ]
    },
    {
      "cell_type": "code",
      "execution_count": null,
      "metadata": {},
      "outputs": [],
      "source": [
        "XLS_INPUT_DIR = \"./data/xls\""
      ]
    },
    {
      "cell_type": "code",
      "execution_count": null,
      "metadata": {},
      "outputs": [],
      "source": [
        "xls_files = sorted([f for f in listdir(XLS_INPUT_DIR) if f.endswith(\"xls\")])\n",
        "xls_files"
      ]
    },
    {
      "cell_type": "code",
      "execution_count": null,
      "metadata": {},
      "outputs": [],
      "source": [
        "keep_cols = [\"Filename\", \"Description\", \"Category\", \"SubCategory\", \"Library\"]\n",
        "\n",
        "descriptions_df = pd.DataFrame()\n",
        "transition_idxs = []\n",
        "\n",
        "for xf in xls_files:\n",
        "  _df = pd.read_excel(path.join(XLS_INPUT_DIR, xf))\n",
        "  drop_cols = [c for c in _df.columns if c not in keep_cols]\n",
        "\n",
        "  # index of first 2 files in xls\n",
        "  transition_idxs.extend([len(descriptions_df) - 0, len(descriptions_df) + 1])\n",
        "\n",
        "  descriptions_df = pd.concat([descriptions_df, _df.drop(columns=drop_cols)], ignore_index=True)\n",
        "\n",
        "  # index of last 2 files in xls\n",
        "  transition_idxs.extend([len(descriptions_df) - 2, len(descriptions_df) - 1])\n",
        "\n",
        "# Check length\n",
        "display(f\"Total files: {len(descriptions_df)}\")\n",
        "\n",
        "# Check if Categories make sense\n",
        "display(descriptions_df.iloc[transition_idxs].drop(columns=[\"Filename\", \"Description\"]))"
      ]
    },
    {
      "cell_type": "markdown",
      "metadata": {},
      "source": [
        "## Save `csv` file"
      ]
    },
    {
      "cell_type": "code",
      "execution_count": null,
      "metadata": {},
      "outputs": [],
      "source": [
        "descriptions_df.to_csv(\"descriptions.csv\", index=False)"
      ]
    }
  ],
  "metadata": {
    "colab": {
      "authorship_tag": "ABX9TyPxe2qYxIG7EblrvD1C4Pmv",
      "provenance": []
    },
    "kernelspec": {
      "display_name": "Python 3.9.17 ('hf-model')",
      "language": "python",
      "name": "python3"
    },
    "language_info": {
      "codemirror_mode": {
        "name": "ipython",
        "version": 3
      },
      "file_extension": ".py",
      "mimetype": "text/x-python",
      "name": "python",
      "nbconvert_exporter": "python",
      "pygments_lexer": "ipython3",
      "version": "3.10.15"
    },
    "vscode": {
      "interpreter": {
        "hash": "89e384cab7c47fb35ec95d2248b519cf922ee174880eed636c26cdfb6c4df768"
      }
    }
  },
  "nbformat": 4,
  "nbformat_minor": 0
}
