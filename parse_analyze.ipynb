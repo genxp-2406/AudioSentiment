{
  "cells": [
    {
      "cell_type": "markdown",
      "metadata": {
        "id": "QshK8s21WBrf"
      },
      "source": [
        "# Experiments in Audio Sentiment"
      ]
    },
    {
      "cell_type": "code",
      "execution_count": null,
      "metadata": {},
      "outputs": [],
      "source": [
        "import pandas as pd\n",
        "import torch\n",
        "\n",
        "from os import listdir, path\n",
        "\n",
        "from transformers import pipeline"
      ]
    },
    {
      "cell_type": "markdown",
      "metadata": {},
      "source": [
        "## Parse `xls` files"
      ]
    },
    {
      "cell_type": "code",
      "execution_count": null,
      "metadata": {},
      "outputs": [],
      "source": [
        "XLS_INPUT_DIR = \"./data/xls\""
      ]
    },
    {
      "cell_type": "code",
      "execution_count": null,
      "metadata": {},
      "outputs": [],
      "source": [
        "xls_files = sorted([f for f in listdir(XLS_INPUT_DIR) if f.endswith(\"xls\")])\n",
        "xls_files"
      ]
    },
    {
      "cell_type": "code",
      "execution_count": null,
      "metadata": {},
      "outputs": [],
      "source": [
        "keep_cols = [\"Filename\", \"Description\", \"Category\", \"SubCategory\", \"Library\"]\n",
        "\n",
        "descriptions_df = pd.DataFrame()\n",
        "transition_idxs = []\n",
        "\n",
        "for xf in xls_files:\n",
        "  _df = pd.read_excel(path.join(XLS_INPUT_DIR, xf))\n",
        "  drop_cols = [c for c in _df.columns if c not in keep_cols]\n",
        "\n",
        "  # index of first 2 files in xls\n",
        "  transition_idxs.extend([len(descriptions_df) - 0, len(descriptions_df) + 1])\n",
        "\n",
        "  descriptions_df = pd.concat([descriptions_df, _df.drop(columns=drop_cols)], ignore_index=True)\n",
        "\n",
        "  # index of last 2 files in xls\n",
        "  transition_idxs.extend([len(descriptions_df) - 2, len(descriptions_df) - 1])\n",
        "\n",
        "# Check length\n",
        "display(f\"Total files: {len(descriptions_df)}\")\n",
        "\n",
        "# Check if Categories make sense\n",
        "display(descriptions_df.iloc[transition_idxs].drop(columns=[\"Filename\", \"Description\"]))"
      ]
    },
    {
      "cell_type": "markdown",
      "metadata": {},
      "source": [
        "## Save `csv` file"
      ]
    },
    {
      "cell_type": "code",
      "execution_count": null,
      "metadata": {},
      "outputs": [],
      "source": [
        "descriptions_df.to_csv(\"descriptions.csv\", index=False)"
      ]
    },
    {
      "cell_type": "markdown",
      "metadata": {
        "id": "7Hf8SXUwWOho"
      },
      "source": [
        "## Read `csv` file"
      ]
    },
    {
      "cell_type": "code",
      "execution_count": null,
      "metadata": {},
      "outputs": [],
      "source": [
        "CSV_FILE_PATH = \"./descriptions.csv\""
      ]
    },
    {
      "cell_type": "code",
      "execution_count": null,
      "metadata": {},
      "outputs": [],
      "source": [
        "descriptions_df = pd.read_csv(CSV_FILE_PATH)\n",
        "descriptions_df.head()"
      ]
    },
    {
      "cell_type": "markdown",
      "metadata": {},
      "source": [
        "## Test model on very first file name and description"
      ]
    },
    {
      "cell_type": "code",
      "execution_count": null,
      "metadata": {},
      "outputs": [],
      "source": [
        "phrases = [descriptions_df.iloc[0][\"Description\"], descriptions_df.iloc[0][\"Filename\"]]\n",
        "phrases"
      ]
    },
    {
      "cell_type": "markdown",
      "metadata": {},
      "source": [
        "## Some Model examples"
      ]
    },
    {
      "cell_type": "code",
      "execution_count": null,
      "metadata": {},
      "outputs": [],
      "source": [
        "# MODEL_NAME = \"cardiffnlp/twitter-roberta-large-emotion-latest\"\n",
        "# MODEL_NAME = \"SamLowe/roberta-base-go_emotions\"\n",
        "MODEL_NAME = \"bhadresh-savani/distilbert-base-uncased-emotion\"\n",
        "MODEL_NAME = \"cardiffnlp/twitter-roberta-base-emotion-multilabel-latest\"\n",
        "MODEL_NAME = \"joeddav/distilbert-base-uncased-go-emotions-student\""
      ]
    },
    {
      "cell_type": "markdown",
      "metadata": {},
      "source": [
        "### Setup\n",
        "\n",
        "Create pipeline and function to process results"
      ]
    },
    {
      "cell_type": "code",
      "execution_count": null,
      "metadata": {},
      "outputs": [],
      "source": [
        "def sort_by_score(scores):\n",
        "  return sorted(scores, key=lambda A: A[\"score\"], reverse=True)\n",
        "\n",
        "pipe = pipeline(\n",
        "  \"sentiment-analysis\",\n",
        "  model=MODEL_NAME,\n",
        "  torch_dtype=torch.bfloat16,\n",
        "  return_all_scores=True\n",
        ")"
      ]
    },
    {
      "cell_type": "markdown",
      "metadata": {},
      "source": [
        "### Run on Filename and Description"
      ]
    },
    {
      "cell_type": "code",
      "execution_count": null,
      "metadata": {},
      "outputs": [],
      "source": [
        "# Filename and Description\n",
        "for p in phrases:\n",
        "  print(p)\n",
        "  scores = pipe(p)[0]\n",
        "  display(sort_by_score(scores)[:3])\n",
        "\n",
        "# Combined Filename and Description\n",
        "p = \", \".join(phrases)\n",
        "print(p)\n",
        "scores = pipe(p)[0]\n",
        "display(sort_by_score(scores)[:3])"
      ]
    }
  ],
  "metadata": {
    "colab": {
      "authorship_tag": "ABX9TyPxe2qYxIG7EblrvD1C4Pmv",
      "provenance": []
    },
    "kernelspec": {
      "display_name": "Python 3.9.17 ('hf-model')",
      "language": "python",
      "name": "python3"
    },
    "language_info": {
      "codemirror_mode": {
        "name": "ipython",
        "version": 3
      },
      "file_extension": ".py",
      "mimetype": "text/x-python",
      "name": "python",
      "nbconvert_exporter": "python",
      "pygments_lexer": "ipython3",
      "version": "3.9.18"
    },
    "vscode": {
      "interpreter": {
        "hash": "89e384cab7c47fb35ec95d2248b519cf922ee174880eed636c26cdfb6c4df768"
      }
    }
  },
  "nbformat": 4,
  "nbformat_minor": 0
}
